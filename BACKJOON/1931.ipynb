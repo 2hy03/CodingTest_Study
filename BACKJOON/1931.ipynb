{
 "cells": [
  {
   "cell_type": "markdown",
   "metadata": {},
   "source": [
    "### 1931.회의실 배정"
   ]
  },
  {
   "cell_type": "code",
   "execution_count": null,
   "metadata": {},
   "outputs": [],
   "source": [
    "#1931.회의실배정\n",
    "N=int(input())\n",
    "meet_list=[]\n",
    "for _ in range(N):\n",
    "    meet=list(map(int,input().split()))\n",
    "    meet_list.append(meet)\n",
    "meet_list.sort(key=lambda x: (x[1], x[0]))  #끝나는 시간, 시작시간 정렬\n",
    "\n",
    "start=meet_list[0][1]\n",
    "count=1\n",
    "for i in range(1,len(meet_list)):\n",
    "    if start<=meet_list[i][0]:\n",
    "        count+=1\n",
    "        start=meet_list[i][1]\n",
    "print(count)"
   ]
  },
  {
   "cell_type": "code",
   "execution_count": 8,
   "metadata": {},
   "outputs": [
    {
     "data": {
      "text/plain": [
       "[[1, 4],\n",
       " [3, 5],\n",
       " [0, 6],\n",
       " [5, 7],\n",
       " [3, 8],\n",
       " [5, 9],\n",
       " [6, 10],\n",
       " [8, 11],\n",
       " [8, 12],\n",
       " [2, 13],\n",
       " [12, 14]]"
      ]
     },
     "execution_count": 8,
     "metadata": {},
     "output_type": "execute_result"
    }
   ],
   "source": [
    "# lambda를 통한 정렬\n",
    "# 끝나는 시간 오름차순, 같으면 시작시간\n",
    "meet_list.sort(key=lambda x: (x[1], x[0]))\n",
    "meet_list"
   ]
  }
 ],
 "metadata": {
  "kernelspec": {
   "display_name": "Python 3",
   "language": "python",
   "name": "python3"
  },
  "language_info": {
   "codemirror_mode": {
    "name": "ipython",
    "version": 3
   },
   "file_extension": ".py",
   "mimetype": "text/x-python",
   "name": "python",
   "nbconvert_exporter": "python",
   "pygments_lexer": "ipython3",
   "version": "3.10.11"
  }
 },
 "nbformat": 4,
 "nbformat_minor": 2
}
