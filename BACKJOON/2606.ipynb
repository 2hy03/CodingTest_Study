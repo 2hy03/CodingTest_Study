{
 "cells": [
  {
   "cell_type": "markdown",
   "metadata": {},
   "source": [
    "### 2606.바이러스"
   ]
  },
  {
   "cell_type": "code",
   "execution_count": 4,
   "metadata": {},
   "outputs": [],
   "source": [
    "n=int(input())\n",
    "m=int(input())\n",
    "graph = [[] for i in range(n+1)]\n",
    "visited=[0]*(n+1)\n",
    "visited[1]=1\n",
    "for i in range(m):\n",
    "    a,b=map(int,input().split())\n",
    "    graph[a]+=[b]\n",
    "    graph[b]+=[a]\n",
    "    \n",
    "def dfs(v):\n",
    "    visited[v]=1\n",
    "    for i in graph[v]:\n",
    "        if visited[i]==0:\n",
    "            dfs(i)\n",
    "    print(sum(visited)-1)\n",
    "            \n",
    "dfs(1)"
   ]
  },
  {
   "cell_type": "markdown",
   "metadata": {},
   "source": [
    "- 모든 연결정보를 찾아야하는 경우\n",
    " \n",
    " -> 인접리스트의 시간복잡도가 낮다(인접행렬 대비)\n",
    "\n",
    "- 특정 노드간 연결정보를 찾아야하는 경우\n",
    "\n",
    " -> 인접행렬의 시간복잡도가 낮다(인접리스트 대비)"
   ]
  },
  {
   "cell_type": "code",
   "execution_count": 5,
   "metadata": {},
   "outputs": [
    {
     "data": {
      "text/plain": [
       "[[], [2, 5], [1, 3, 5], [2], [7], [1, 2, 6], [5], [4]]"
      ]
     },
     "execution_count": 5,
     "metadata": {},
     "output_type": "execute_result"
    }
   ],
   "source": [
    "# 인접리스트\n",
    "graph"
   ]
  }
 ],
 "metadata": {
  "kernelspec": {
   "display_name": "Python 3",
   "language": "python",
   "name": "python3"
  },
  "language_info": {
   "codemirror_mode": {
    "name": "ipython",
    "version": 3
   },
   "file_extension": ".py",
   "mimetype": "text/x-python",
   "name": "python",
   "nbconvert_exporter": "python",
   "pygments_lexer": "ipython3",
   "version": "3.10.11"
  }
 },
 "nbformat": 4,
 "nbformat_minor": 2
}
