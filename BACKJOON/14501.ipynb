{
 "cells": [
  {
   "cell_type": "markdown",
   "metadata": {},
   "source": [
    "### 14501. 퇴사"
   ]
  },
  {
   "cell_type": "code",
   "execution_count": 3,
   "metadata": {},
   "outputs": [
    {
     "name": "stdout",
     "output_type": "stream",
     "text": [
      "45\n"
     ]
    }
   ],
   "source": [
    "N=int(input())\n",
    "t,p=[0]*N,[0]*N\n",
    "dp=[0]*(N+5) #T 의최대값 5 더해줘서 범위 문제 해결\n",
    "for i in range(N):\n",
    "     t[i], p[i]=map(int, input().split())\n",
    "for i in range(N):\n",
    "    if dp[i+1]<dp[i]:   #dp[i]= i일 까지의 최대이익\n",
    "        dp[i+1]=dp[i]\n",
    "    if dp[i+t[i]]<dp[i]+p[i]:\n",
    "        dp[i+t[i]]=dp[i]+p[i]\n",
    "print(dp[N])  "
   ]
  }
 ],
 "metadata": {
  "kernelspec": {
   "display_name": "Python 3",
   "language": "python",
   "name": "python3"
  },
  "language_info": {
   "codemirror_mode": {
    "name": "ipython",
    "version": 3
   },
   "file_extension": ".py",
   "mimetype": "text/x-python",
   "name": "python",
   "nbconvert_exporter": "python",
   "pygments_lexer": "ipython3",
   "version": "3.10.11"
  }
 },
 "nbformat": 4,
 "nbformat_minor": 2
}
