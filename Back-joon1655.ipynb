{
 "cells": [
  {
   "attachments": {},
   "cell_type": "markdown",
   "metadata": {},
   "source": [
    "#### [백준] 가운데를 말해요\n",
    "\n",
    "백준이는 동생에게 \"가운데를 말해요\" 게임을 가르쳐주고 있다. 백준이가 정수를 하나씩 외칠때마다 동생은 지금까지 백준이가 말한 수 중에서 중간값을 말해야 한다. 만약, 그동안 백준이가 외친 수의 개수가 짝수개라면 중간에 있는 두 수 중에서 작은 수를 말해야 한다.\n",
    "\n",
    "예를 들어 백준이가 동생에게 1, 5, 2, 10, -99, 7, 5를 순서대로 외쳤다고 하면, 동생은 1, 1, 2, 2, 2, 2, 5를 차례대로 말해야 한다. 백준이가 외치는 수가 주어졌을 때, 동생이 말해야 하는 수를 구하는 프로그램을 작성하시오."
   ]
  },
  {
   "attachments": {},
   "cell_type": "markdown",
   "metadata": {},
   "source": [
    "예제>\n",
    "7\n",
    "1\n",
    "5\n",
    "2\n",
    "10\n",
    "-99\n",
    "7\n",
    "5"
   ]
  },
  {
   "cell_type": "code",
   "execution_count": 2,
   "metadata": {},
   "outputs": [
    {
     "data": {
      "text/plain": [
       "[1, 1, 2, 2, 2, 2, 5]"
      ]
     },
     "execution_count": 2,
     "metadata": {},
     "output_type": "execute_result"
    }
   ],
   "source": [
    "import pandas as pd\n",
    "\n",
    "def get_center():\n",
    "    N=int(input())\n",
    "\n",
    "    answer=[]\n",
    "    sorted_num=[]\n",
    "    \n",
    "    for i in range(N):\n",
    "        numbers=int(input())\n",
    "        sorted_num.append(numbers)\n",
    "        sorted_num.sort()\n",
    "        length=len(sorted_num)\n",
    "        \n",
    "        if length %2==0:\n",
    "            answer.append(sorted_num[length//2-1])\n",
    "        else:\n",
    "            answer.append(sorted_num[length//2])\n",
    "    return answer\n",
    "\n",
    "get_center()\n",
    "\n",
    "##time ERROR\n"
   ]
  },
  {
   "attachments": {},
   "cell_type": "markdown",
   "metadata": {},
   "source": [
    "결과\n",
    "1\n",
    "1\n",
    "2\n",
    "2\n",
    "2\n",
    "2\n",
    "5"
   ]
  },
  {
   "cell_type": "code",
   "execution_count": null,
   "metadata": {},
   "outputs": [],
   "source": [
    "# 첫번째 개선점_ 최대 힙 & 최소 힙\n",
    "import heapq\n",
    "import sys\n",
    "\n",
    "n = int(sys.stdin.readline())\n",
    "\n",
    "leftHeap = []\n",
    "rightHeap = []\n",
    "for i in range(n):\n",
    "    num = int(sys.stdin.readline())\n",
    "\n",
    "    if len(leftHeap) == len(rightHeap):\n",
    "        heapq.heappush(leftHeap, -num) #num에 -를 붙임을 통해 최대힙을 만듬\n",
    "    else:\n",
    "        heapq.heappush(rightHeap, num)\n",
    "\n",
    "    if rightHeap and rightHeap[0] < -leftHeap[0]:\n",
    "        leftValue = heapq.heappop(leftHeap)\n",
    "        rightValue = heapq.heappop(rightHeap)\n",
    "\n",
    "        heapq.heappush(leftHeap, -rightValue)\n",
    "        heapq.heappush(rightHeap, -leftValue)\n",
    "\n",
    "    print(-leftHeap[0])"
   ]
  },
  {
   "attachments": {},
   "cell_type": "markdown",
   "metadata": {},
   "source": [
    "#### 예제 입력을 받을 때, input()을 이용하면 시간초과오류가 발생하므로 sys.stdin.readline()을 이용해야한다."
   ]
  },
  {
   "cell_type": "code",
   "execution_count": null,
   "metadata": {},
   "outputs": [],
   "source": [
    "import "
   ]
  }
 ],
 "metadata": {
  "kernelspec": {
   "display_name": "Python 3",
   "language": "python",
   "name": "python3"
  },
  "language_info": {
   "codemirror_mode": {
    "name": "ipython",
    "version": 3
   },
   "file_extension": ".py",
   "mimetype": "text/x-python",
   "name": "python",
   "nbconvert_exporter": "python",
   "pygments_lexer": "ipython3",
   "version": "3.10.11"
  },
  "orig_nbformat": 4
 },
 "nbformat": 4,
 "nbformat_minor": 2
}
