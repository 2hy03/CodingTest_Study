{
 "cells": [
  {
   "cell_type": "markdown",
   "metadata": {},
   "source": [
    "### 9084. 동전"
   ]
  },
  {
   "cell_type": "code",
   "execution_count": null,
   "metadata": {},
   "outputs": [],
   "source": [
    "T=int(input())  #테스트케이스 개수\n",
    "for _ in range(T):\n",
    "    N=int(input())  #동전의 가지 수\n",
    "    coin=list(map(int,input().split()))\n",
    "    M=int(input())  #만들어야하는 금액\n",
    "    dp=[0]*(M+1)\n",
    "    dp[0]=1\n",
    "    for c in coin:\n",
    "        for i in range(c,M+1):\n",
    "            dp[i]+=dp[i-c]\n",
    "    print(dp[-1])"
   ]
  }
 ],
 "metadata": {
  "kernelspec": {
   "display_name": "Python 3",
   "language": "python",
   "name": "python3"
  },
  "language_info": {
   "codemirror_mode": {
    "name": "ipython",
    "version": 3
   },
   "file_extension": ".py",
   "mimetype": "text/x-python",
   "name": "python",
   "nbconvert_exporter": "python",
   "pygments_lexer": "ipython3",
   "version": "3.10.11"
  }
 },
 "nbformat": 4,
 "nbformat_minor": 2
}
