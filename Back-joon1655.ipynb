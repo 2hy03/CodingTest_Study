{
 "cells": [
  {
   "attachments": {},
   "cell_type": "markdown",
   "metadata": {},
   "source": [
    "#### [백준] 가운데를 말해요\n",
    "\n",
    "백준이는 동생에게 \"가운데를 말해요\" 게임을 가르쳐주고 있다. 백준이가 정수를 하나씩 외칠때마다 동생은 지금까지 백준이가 말한 수 중에서 중간값을 말해야 한다. 만약, 그동안 백준이가 외친 수의 개수가 짝수개라면 중간에 있는 두 수 중에서 작은 수를 말해야 한다.\n",
    "\n",
    "예를 들어 백준이가 동생에게 1, 5, 2, 10, -99, 7, 5를 순서대로 외쳤다고 하면, 동생은 1, 1, 2, 2, 2, 2, 5를 차례대로 말해야 한다. 백준이가 외치는 수가 주어졌을 때, 동생이 말해야 하는 수를 구하는 프로그램을 작성하시오."
   ]
  },
  {
   "attachments": {},
   "cell_type": "markdown",
   "metadata": {},
   "source": [
    "예제>\n",
    "7\n",
    "1\n",
    "5\n",
    "2\n",
    "10\n",
    "-99\n",
    "7\n",
    "5"
   ]
  },
  {
   "cell_type": "code",
   "execution_count": null,
   "metadata": {},
   "outputs": [],
   "source": [
    "import pandas as pd\n",
    "\n",
    "def get_center():\n",
    "    N=int(input())\n",
    "\n",
    "    answer=[]\n",
    "    sorted_num=[]\n",
    "    \n",
    "    for i in range(N):\n",
    "        numbers=int(input())\n",
    "        sorted_num.append(numbers)\n",
    "        sorted_num.sort()\n",
    "        length=len(sorted_num)\n",
    "        \n",
    "        if length %2==0:\n",
    "            answer.append(sorted_num[length//2-1])\n",
    "        else:\n",
    "            answer.append(sorted_num[length//2])\n",
    "    return answer\n",
    "\n",
    "get_center()"
   ]
  },
  {
   "attachments": {},
   "cell_type": "markdown",
   "metadata": {},
   "source": [
    "시간제한!"
   ]
  },
  {
   "cell_type": "code",
   "execution_count": null,
   "metadata": {},
   "outputs": [],
   "source": []
  },
  {
   "cell_type": "code",
   "execution_count": null,
   "metadata": {},
   "outputs": [],
   "source": []
  }
 ],
 "metadata": {
  "language_info": {
   "name": "python"
  },
  "orig_nbformat": 4
 },
 "nbformat": 4,
 "nbformat_minor": 2
}
