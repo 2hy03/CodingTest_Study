{
 "cells": [
  {
   "cell_type": "markdown",
   "metadata": {},
   "source": [
    "### 11047.동전 0"
   ]
  },
  {
   "cell_type": "code",
   "execution_count": 5,
   "metadata": {},
   "outputs": [],
   "source": [
    "N,K=map(int,input().split())    #동전종류, 합\n",
    "coins=[]    #종류 리스트\n",
    "for _ in range(N):\n",
    "    coin=int(input())\n",
    "    coins.append(coin)\n"
   ]
  },
  {
   "cell_type": "code",
   "execution_count": 18,
   "metadata": {},
   "outputs": [
    {
     "name": "stdout",
     "output_type": "stream",
     "text": [
      "-1 pass\n",
      "-2 pass\n",
      "-3 pass\n",
      "result 4\n",
      "update K  790\n",
      "result 5\n",
      "update K  290\n",
      "result 7\n",
      "update K  90\n",
      "result 8\n",
      "update K  40\n",
      "result 12\n",
      "update K  0\n",
      "-9 pass\n",
      "-10 pass\n",
      "12\n"
     ]
    }
   ],
   "source": [
    "N,K=map(int,input().split())    #동전종류, 합\n",
    "coins=[1,5,10,50,100,500,1000,5000,10000,50000]\n",
    "\n",
    "result=0\n",
    "for i in range(-1,-len(coins)-1,-1):\n",
    "    if K//coins[i] >=1 :\n",
    "        result+=K//coins[i]\n",
    "        print(\"result\",result)\n",
    "        K = K%coins[i]\n",
    "        print(\"update K \",K)\n",
    "    else:\n",
    "        print(i,\"pass\")\n",
    "print(result)\n",
    "    "
   ]
  },
  {
   "cell_type": "code",
   "execution_count": 16,
   "metadata": {},
   "outputs": [
    {
     "data": {
      "text/plain": [
       "200"
      ]
     },
     "execution_count": 16,
     "metadata": {},
     "output_type": "execute_result"
    }
   ],
   "source": [
    "### 11047.동전 0\n",
    "\n",
    "N,K=map(int,input().split())    #동전종류, 합\n",
    "coins=[]    #종류 리스트\n",
    "result=0\n",
    "for _ in range(N):\n",
    "    coin=int(input())\n",
    "    coins.append(coin)\n",
    "\n",
    "for i in range(-1,-len(coins)-1,-1):\n",
    "    if K//coins[i] >=1 :\n",
    "        result+=K//coins[i]\n",
    "        K = K%coins[i]\n",
    "\n",
    "print(result)"
   ]
  },
  {
   "cell_type": "code",
   "execution_count": null,
   "metadata": {},
   "outputs": [],
   "source": []
  }
 ],
 "metadata": {
  "kernelspec": {
   "display_name": "Python 3",
   "language": "python",
   "name": "python3"
  },
  "language_info": {
   "codemirror_mode": {
    "name": "ipython",
    "version": 3
   },
   "file_extension": ".py",
   "mimetype": "text/x-python",
   "name": "python",
   "nbconvert_exporter": "python",
   "pygments_lexer": "ipython3",
   "version": "3.10.11"
  }
 },
 "nbformat": 4,
 "nbformat_minor": 2
}
