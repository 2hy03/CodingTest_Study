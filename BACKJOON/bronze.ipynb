{
 "cells": [
  {
   "cell_type": "code",
   "execution_count": null,
   "metadata": {},
   "outputs": [],
   "source": [
    "#2562. 최대값\n",
    "num_list=[]\n",
    "\n",
    "for _ in range(9):\n",
    "    num_list.append(int(input()))\n",
    "\n",
    "print(max(num_list))\n",
    "print(num_list.index(max(num_list))+1)"
   ]
  },
  {
   "cell_type": "code",
   "execution_count": null,
   "metadata": {},
   "outputs": [
    {
     "name": "stdout",
     "output_type": "stream",
     "text": [
      "4  *  1  =  4\n",
      "4  *  2  =  8\n",
      "4  *  3  =  12\n",
      "4  *  4  =  16\n",
      "4  *  5  =  20\n",
      "4  *  6  =  24\n",
      "4  *  7  =  28\n",
      "4  *  8  =  32\n",
      "4  *  9  =  36\n"
     ]
    }
   ],
   "source": [
    "#2739. 구구단\n",
    "##파이썬에서 ,의 출력은 띄어쓰기됨\n",
    "N=int(input())\n",
    "for i in range(1,10):\n",
    "    print(N,\"*\",i,\"=\",N*i)"
   ]
  },
  {
   "cell_type": "code",
   "execution_count": null,
   "metadata": {},
   "outputs": [],
   "source": [
    "#2750. 수 정렬하기\n",
    "import sys\n",
    "input=sys.stdin.readline\n",
    "\n",
    "N=int(input())\n",
    "n_list=[]\n",
    "for i in range(N):\n",
    "    n_list.append(int(input()))\n",
    "\n",
    "for i in sorted(n_list):\n",
    "    print(i)"
   ]
  },
  {
   "cell_type": "code",
   "execution_count": null,
   "metadata": {},
   "outputs": [
    {
     "name": "stdout",
     "output_type": "stream",
     "text": [
      "LOV\n"
     ]
    }
   ],
   "source": [
    "#2789. 유학금지\n",
    "sentence = input()\n",
    "\n",
    "for i in \"CAMBRIDGE\":\n",
    "    sentence = sentence.replace(i,\"\")\n",
    "print(sentence)    \n"
   ]
  },
  {
   "cell_type": "code",
   "execution_count": 47,
   "metadata": {},
   "outputs": [
    {
     "name": "stdout",
     "output_type": "stream",
     "text": [
      "O 0\n",
      "O 0\n",
      "X 3\n",
      "X 3\n",
      "O 3\n",
      "X 4\n",
      "X 4\n",
      "O 4\n",
      "O 4\n",
      "O 4\n",
      "X 10\n",
      "10\n"
     ]
    }
   ],
   "source": [
    "#8958.OX퀴즈\n",
    "N=int(input())\n",
    "for _ in range(N):\n",
    "    txt=input()+'X'\n",
    "    n=0\n",
    "    result=0\n",
    "    for i in txt:\n",
    "        if i=='O':\n",
    "            n+=1\n",
    "            result+=n\n",
    "\n",
    "        else:\n",
    "            n=0\n",
    "            \n",
    "    print(result)    "
   ]
  },
  {
   "cell_type": "code",
   "execution_count": null,
   "metadata": {},
   "outputs": [],
   "source": [
    "#10809.알파벳찾기\n",
    "txt=input()\n",
    "abc='abcdefghijklmnopqrstuvwxyz'\n",
    "\n",
    "for i in abc:\n",
    "    if i in txt:\n",
    "        print(txt.index(i),end=' ')\n",
    "    else:\n",
    "        print(-1, end=' ')\n"
   ]
  },
  {
   "cell_type": "code",
   "execution_count": null,
   "metadata": {},
   "outputs": [],
   "source": [
    "#10871. X보다 작은 수\n",
    "#list내의 요소만 출력하는 방법 : print(*리스트)\n",
    "N,X=map(int,input().split())\n",
    "num=list(map(int,input().split()))\n",
    "result=[i for i in num if i<X ]\n",
    "print(*result)"
   ]
  },
  {
   "cell_type": "code",
   "execution_count": null,
   "metadata": {},
   "outputs": [
    {
     "name": "stdout",
     "output_type": "stream",
     "text": [
      "Case #1: 2\n"
     ]
    }
   ],
   "source": [
    "#11021. A+B_7\n",
    "##print내에서 str의 연결은 +이다.\n",
    "##print에서 ,는 띄어쓰기되어 표현된다\n",
    "T=int(input())\n",
    "for i in range(1,T+1):\n",
    "    a,b=map(int,input().split())\n",
    "    print(\"Case #\"+str(i)+\":\",a+b)"
   ]
  },
  {
   "cell_type": "code",
   "execution_count": null,
   "metadata": {},
   "outputs": [
    {
     "data": {
      "text/plain": [
       "15"
      ]
     },
     "execution_count": 3,
     "metadata": {},
     "output_type": "execute_result"
    }
   ],
   "source": [
    "#11720. 숫자의 합\n",
    "N=int(input())\n",
    "n_list=list(map(int,input().strip()))\n",
    "print(sum(n_list))"
   ]
  },
  {
   "cell_type": "code",
   "execution_count": null,
   "metadata": {},
   "outputs": [],
   "source": []
  }
 ],
 "metadata": {
  "kernelspec": {
   "display_name": "Python 3",
   "language": "python",
   "name": "python3"
  },
  "language_info": {
   "codemirror_mode": {
    "name": "ipython",
    "version": 3
   },
   "file_extension": ".py",
   "mimetype": "text/x-python",
   "name": "python",
   "nbconvert_exporter": "python",
   "pygments_lexer": "ipython3",
   "version": "3.10.11"
  }
 },
 "nbformat": 4,
 "nbformat_minor": 2
}
