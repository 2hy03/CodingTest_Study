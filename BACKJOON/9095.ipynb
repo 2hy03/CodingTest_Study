{
 "cells": [
  {
   "cell_type": "markdown",
   "metadata": {},
   "source": [
    "### 9095. 1, 2, 3 더하기"
   ]
  },
  {
   "cell_type": "code",
   "execution_count": 14,
   "metadata": {},
   "outputs": [
    {
     "name": "stdout",
     "output_type": "stream",
     "text": [
      "7\n",
      "44\n",
      "274\n"
     ]
    }
   ],
   "source": [
    "#9095.1,2,3더하기\n",
    "dp=[0]*11\n",
    "dp[1]=1\n",
    "dp[2]=2\n",
    "dp[3]=4\n",
    "\n",
    "for i in range(4,11):\n",
    "    dp[i]=dp[i-3]+dp[i-2]+dp[i-1]\n",
    "\n",
    "T = int(input())\n",
    "for _ in range(T):\n",
    "    n = int(input())\n",
    "    print(dp[n])"
   ]
  },
  {
   "cell_type": "markdown",
   "metadata": {},
   "source": [
    "n의 범위가 11보다 작으며, 여러 개의 테스트 케이스가 주어질 수 있으므로, dp값을 리스트로 저장해 놓는 것이 효율적"
   ]
  },
  {
   "cell_type": "code",
   "execution_count": 20,
   "metadata": {},
   "outputs": [],
   "source": [
    "def cal(n):\n",
    "    dp=[0]*(n+1)\n",
    "    dp[1]=1\n",
    "    dp[2]=2\n",
    "    dp[3]=4\n",
    "    if n<=3:\n",
    "       return dp[n]\n",
    "    else :\n",
    "       for i in range(4,n+1):\n",
    "           dp[i]=dp[i-1]+dp[i-2]+dp[i-3]\n",
    "           print(dp)\n",
    "    return dp[n]\n",
    "\n",
    "n=10\n",
    "print(cal(n))\n",
    "        "
   ]
  }
 ],
 "metadata": {
  "kernelspec": {
   "display_name": "Python 3",
   "language": "python",
   "name": "python3"
  },
  "language_info": {
   "codemirror_mode": {
    "name": "ipython",
    "version": 3
   },
   "file_extension": ".py",
   "mimetype": "text/x-python",
   "name": "python",
   "nbconvert_exporter": "python",
   "pygments_lexer": "ipython3",
   "version": "3.10.11"
  }
 },
 "nbformat": 4,
 "nbformat_minor": 2
}
