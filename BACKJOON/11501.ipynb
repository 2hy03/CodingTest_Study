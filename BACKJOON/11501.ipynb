{
 "cells": [
  {
   "cell_type": "markdown",
   "metadata": {},
   "source": [
    "### 11501.주식"
   ]
  },
  {
   "cell_type": "code",
   "execution_count": 8,
   "metadata": {},
   "outputs": [],
   "source": [
    "#11501.주식\n",
    "def max_result():\n",
    "    N=int(input())\n",
    "    num_list=list(map(int,input().split()))\n",
    "    result=0\n",
    "    max_num = num_list[-1]\n",
    "    for i in range(N-2,-1,-1):\n",
    "        if num_list[i]>max_num:\n",
    "            max_num=num_list[i]\n",
    "        else:\n",
    "            result+=(max_num-num_list[i])\n",
    "    return result\n",
    "\n",
    "T=int(input())\n",
    "for i in range(T):\n",
    "    print(max_result())"
   ]
  },
  {
   "cell_type": "code",
   "execution_count": null,
   "metadata": {},
   "outputs": [],
   "source": [
    "##시간 초과 발생\n",
    "###리스트 마다 max값을 검색하기 때문\n",
    "###max_num의 탐색방법과 result업데이트 방법변화 필요\n",
    "def max_result():\n",
    "    N=int(input())\n",
    "    num_list=list(map(int,input().split()))\n",
    "    result=0\n",
    "    for i in range(N):\n",
    "        max_num=num_list[i:]\n",
    "        if num_list[i]>max_num:\n",
    "            result+=(max_num-num_list[i])\n",
    "    return result\n",
    "\n",
    "T=int(input())\n",
    "for i in range(T):\n",
    "    print(max_result())"
   ]
  }
 ],
 "metadata": {
  "kernelspec": {
   "display_name": "Python 3",
   "language": "python",
   "name": "python3"
  },
  "language_info": {
   "codemirror_mode": {
    "name": "ipython",
    "version": 3
   },
   "file_extension": ".py",
   "mimetype": "text/x-python",
   "name": "python",
   "nbconvert_exporter": "python",
   "pygments_lexer": "ipython3",
   "version": "3.10.11"
  }
 },
 "nbformat": 4,
 "nbformat_minor": 2
}
