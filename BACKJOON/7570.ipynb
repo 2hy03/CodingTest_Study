{
 "cells": [
  {
   "cell_type": "markdown",
   "metadata": {},
   "source": [
    "## 7570. 줄세우기"
   ]
  },
  {
   "cell_type": "markdown",
   "metadata": {},
   "source": [
    "##### - N의 범위가 1,000,000이하의 정수임으로, \n",
    " O(N^2)이상의 시간복잡도로는 불가능\n",
    "\n",
    "-> O(N) or O(NlogN)의 시간복잡도로 해결하는 방법을 가져가야한다."
   ]
  },
  {
   "cell_type": "code",
   "execution_count": null,
   "metadata": {},
   "outputs": [],
   "source": [
    "#인덱스를 통해 위치 순서를 맞추기\n",
    "##각 위치에서 원소가 다음원소보다 작으면, 더 작은 값이 앞에있는 것이므로 이동필요 없음\n",
    "##이동할 필요가 없는 수 count\n",
    "\n",
    "N=int(input())\n",
    "num_list=[0]+list(map(int, input().split()))\n",
    "position=[0]*(N+1)\n",
    "for i in range(1,len(num_list)-1):\n",
    "    position[num_list[i]]=i\n",
    "\n",
    "count=1\n",
    "max=-1\n",
    "for i in range(1,len(num_list)-1):\n",
    "    count+=1\n",
    "    if(count>max):\n",
    "        max=count\n",
    "    else: count=1\n",
    "print(N-max)\n",
    "\n"
   ]
  },
  {
   "cell_type": "code",
   "execution_count": 9,
   "metadata": {},
   "outputs": [
    {
     "name": "stdout",
     "output_type": "stream",
     "text": [
      "3\n"
     ]
    }
   ],
   "source": [
    "#시간 초과_deque\n",
    "from collections import deque\n",
    "\n",
    "N = int(input())\n",
    "num_list = deque(map(int, input().split()))\n",
    "target = 1\n",
    "moves = 0\n",
    "\n",
    "while num_list:\n",
    "    if num_list[0] == target:\n",
    "        num_list.popleft()\n",
    "        target += 1\n",
    "    elif num_list[-1] == target:\n",
    "        num_list.pop()\n",
    "        target += 1\n",
    "    else:\n",
    "        front = 0\n",
    "        back = 0\n",
    "        for num in num_list:\n",
    "            if num != target:\n",
    "                front += 1\n",
    "            else:\n",
    "                break\n",
    "        for num in reversed(num_list):\n",
    "            if num != target:\n",
    "                back += 1\n",
    "            else:\n",
    "                break\n",
    "        if front <= back:\n",
    "            num_list.rotate(-front)\n",
    "            moves += front\n",
    "        else:\n",
    "            num_list.rotate(back)\n",
    "            moves += back\n",
    "\n",
    "print(moves)\n"
   ]
  },
  {
   "cell_type": "code",
   "execution_count": 10,
   "metadata": {},
   "outputs": [
    {
     "ename": "ValueError",
     "evalue": "invalid literal for int() with base 10: ''",
     "output_type": "error",
     "traceback": [
      "\u001b[1;31m---------------------------------------------------------------------------\u001b[0m",
      "\u001b[1;31mValueError\u001b[0m                                Traceback (most recent call last)",
      "Cell \u001b[1;32mIn[10], line 4\u001b[0m\n\u001b[0;32m      1\u001b[0m \u001b[38;5;66;03m#시간초과\u001b[39;00m\n\u001b[0;32m      2\u001b[0m \u001b[38;5;66;03m##앞으로 보낼지, 뒤로보낼지 계산을 통해 target을 맞춰가며 정렬\u001b[39;00m\n\u001b[1;32m----> 4\u001b[0m N\u001b[38;5;241m=\u001b[39m\u001b[38;5;28;43mint\u001b[39;49m\u001b[43m(\u001b[49m\u001b[38;5;28;43minput\u001b[39;49m\u001b[43m(\u001b[49m\u001b[43m)\u001b[49m\u001b[43m)\u001b[49m\n\u001b[0;32m      5\u001b[0m num_list\u001b[38;5;241m=\u001b[39m\u001b[38;5;28mlist\u001b[39m(\u001b[38;5;28mmap\u001b[39m(\u001b[38;5;28mint\u001b[39m, \u001b[38;5;28minput\u001b[39m()\u001b[38;5;241m.\u001b[39msplit()))\n\u001b[0;32m      6\u001b[0m target\u001b[38;5;241m=\u001b[39m\u001b[38;5;241m1\u001b[39m\n",
      "\u001b[1;31mValueError\u001b[0m: invalid literal for int() with base 10: ''"
     ]
    }
   ],
   "source": [
    "#시간초과\n",
    "##앞으로 보낼지, 뒤로보낼지 계산을 통해 target을 맞춰가며 정렬\n",
    "\n",
    "N=int(input())\n",
    "num_list=list(map(int, input().split()))\n",
    "target=1\n",
    "moves=0\n",
    "\n",
    "while True:\n",
    "    \n",
    "    if num_list[0]==target:\n",
    "        num_list.pop(0)\n",
    "        target+=1\n",
    "        N-=1\n",
    "        if N==0:\n",
    "            break\n",
    "     \n",
    "    elif num_list[-1]==target:\n",
    "        num_list.pop()\n",
    "        target+=1\n",
    "        N-=1\n",
    "        if N==0:\n",
    "            break\n",
    "    \n",
    "    else:\n",
    "        front=0\n",
    "        back=0\n",
    "        for i in range(N):\n",
    "            if num_list[i]!=target:\n",
    "                front+=1\n",
    "            else: \n",
    "                break\n",
    "            \n",
    "        for i in range(N-1,-1,-1):\n",
    "            if num_list[i]!=target:\n",
    "                back+=1\n",
    "            else:\n",
    "                break\n",
    "      \n",
    "        if front<=back:\n",
    "            for _ in range(front):\n",
    "                num_list.append(num_list.pop(0))\n",
    "            moves+=front\n",
    "        else:\n",
    "            for _ in range(back):\n",
    "                num_list.insert(0,num_list.pop())\n",
    "            moves+=back\n",
    "\n",
    "print(moves)\n",
    "        "
   ]
  },
  {
   "cell_type": "code",
   "execution_count": null,
   "metadata": {},
   "outputs": [],
   "source": []
  }
 ],
 "metadata": {
  "kernelspec": {
   "display_name": "Python 3",
   "language": "python",
   "name": "python3"
  },
  "language_info": {
   "codemirror_mode": {
    "name": "ipython",
    "version": 3
   },
   "file_extension": ".py",
   "mimetype": "text/x-python",
   "name": "python",
   "nbconvert_exporter": "python",
   "pygments_lexer": "ipython3",
   "version": "3.10.11"
  }
 },
 "nbformat": 4,
 "nbformat_minor": 2
}
