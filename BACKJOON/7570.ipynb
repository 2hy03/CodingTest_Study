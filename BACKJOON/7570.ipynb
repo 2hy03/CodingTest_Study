{
 "cells": [
  {
   "cell_type": "markdown",
   "metadata": {},
   "source": [
    "## 7570. 줄세우기"
   ]
  },
  {
   "cell_type": "markdown",
   "metadata": {},
   "source": [
    "##### - N의 범위가 1,000,000이하의 정수임으로, \n",
    " O(N^2)이상의 시간복잡도로는 불가능\n",
    "\n",
    "-> O(N) or O(NlogN)의 시간복잡도로 해결하는 방법을 가져가야한다."
   ]
  },
  {
   "cell_type": "code",
   "execution_count": 17,
   "metadata": {},
   "outputs": [
    {
     "name": "stdout",
     "output_type": "stream",
     "text": [
      "3\n"
     ]
    }
   ],
   "source": [
    "#인덱스를 통해 위치 순서를 맞추기\n",
    "##각 위치에서 원소가 다음원소보다 작으면, 더 작은 값이 앞에있는 것이므로 이동필요 없음\n",
    "##이동할 필요가 없는 수 count\n",
    "\n",
    "N=int(input())\n",
    "num_list=[0]+list(map(int, input().split()))\n",
    "position=[0]*(N+1)\n",
    "for i in range(1,len(num_list)):\n",
    "    position[num_list[i]]=i\n",
    "\n",
    "count=1\n",
    "max=1\n",
    "for i in range(1,len(num_list)-1):\n",
    "    if(position[i] < position[i+1]):\n",
    "        count+=1\n",
    "        if(count>max):\n",
    "            max=count\n",
    "    else: count=1\n",
    "print(N-max)\n",
    "\n"
   ]
  },
  {
   "cell_type": "code",
   "execution_count": 9,
   "metadata": {},
   "outputs": [
    {
     "name": "stdout",
     "output_type": "stream",
     "text": [
      "3\n"
     ]
    }
   ],
   "source": [
    "#시간 초과_deque\n",
    "from collections import deque\n",
    "\n",
    "N = int(input())\n",
    "num_list = deque(map(int, input().split()))\n",
    "target = 1\n",
    "moves = 0\n",
    "\n",
    "while num_list:\n",
    "    if num_list[0] == target:\n",
    "        num_list.popleft()\n",
    "        target += 1\n",
    "    elif num_list[-1] == target:\n",
    "        num_list.pop()\n",
    "        target += 1\n",
    "    else:\n",
    "        front = 0\n",
    "        back = 0\n",
    "        for num in num_list:\n",
    "            if num != target:\n",
    "                front += 1\n",
    "            else:\n",
    "                break\n",
    "        for num in reversed(num_list):\n",
    "            if num != target:\n",
    "                back += 1\n",
    "            else:\n",
    "                break\n",
    "        if front <= back:\n",
    "            num_list.rotate(-front)\n",
    "            moves += front\n",
    "        else:\n",
    "            num_list.rotate(back)\n",
    "            moves += back\n",
    "\n",
    "print(moves)\n"
   ]
  },
  {
   "cell_type": "code",
   "execution_count": 18,
   "metadata": {},
   "outputs": [
    {
     "name": "stdout",
     "output_type": "stream",
     "text": [
      "3\n"
     ]
    }
   ],
   "source": [
    "#시간초과\n",
    "##앞으로 보낼지, 뒤로보낼지 계산을 통해 target을 맞춰가며 정렬\n",
    "\n",
    "N=int(input())\n",
    "num_list=list(map(int, input().split()))\n",
    "target=1\n",
    "moves=0\n",
    "\n",
    "while True:\n",
    "    \n",
    "    if num_list[0]==target:\n",
    "        num_list.pop(0)\n",
    "        target+=1\n",
    "        N-=1\n",
    "        if N==0:\n",
    "            break\n",
    "     \n",
    "    elif num_list[-1]==target:\n",
    "        num_list.pop()\n",
    "        target+=1\n",
    "        N-=1\n",
    "        if N==0:\n",
    "            break\n",
    "    \n",
    "    else:\n",
    "        front=0\n",
    "        back=0\n",
    "        for i in range(N):\n",
    "            if num_list[i]!=target:\n",
    "                front+=1\n",
    "            else: \n",
    "                break\n",
    "            \n",
    "        for i in range(N-1,-1,-1):\n",
    "            if num_list[i]!=target:\n",
    "                back+=1\n",
    "            else:\n",
    "                break\n",
    "      \n",
    "        if front<=back:\n",
    "            for _ in range(front):\n",
    "                num_list.append(num_list.pop(0))\n",
    "            moves+=front\n",
    "        else:\n",
    "            for _ in range(back):\n",
    "                num_list.insert(0,num_list.pop())\n",
    "            moves+=back\n",
    "\n",
    "print(moves)\n",
    "        "
   ]
  }
 ],
 "metadata": {
  "kernelspec": {
   "display_name": "Python 3",
   "language": "python",
   "name": "python3"
  },
  "language_info": {
   "codemirror_mode": {
    "name": "ipython",
    "version": 3
   },
   "file_extension": ".py",
   "mimetype": "text/x-python",
   "name": "python",
   "nbconvert_exporter": "python",
   "pygments_lexer": "ipython3",
   "version": "3.10.11"
  }
 },
 "nbformat": 4,
 "nbformat_minor": 2
}
