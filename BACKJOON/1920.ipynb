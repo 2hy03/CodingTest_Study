{
 "cells": [
  {
   "cell_type": "code",
   "execution_count": 8,
   "metadata": {},
   "outputs": [
    {
     "name": "stdout",
     "output_type": "stream",
     "text": [
      "1\n",
      "1\n",
      "0\n",
      "0\n",
      "1\n"
     ]
    }
   ],
   "source": [
    "#1920.수찾기\n",
    "#이분탐색\n",
    "##메모리47016, 시간 448ms\n",
    "\n",
    "N=int(input())\n",
    "N_list=list(map(int,input().split()))\n",
    "N_list.sort()\n",
    "M=int(input())\n",
    "M_list=list(map(int,input().split()))\n",
    "\n",
    "def binary(m):\n",
    "    start=0\n",
    "    end=N-1\n",
    "    while start<=end:\n",
    "        mid=(start+end)//2\n",
    "        if N_list[mid]==m:\n",
    "            return 1\n",
    "        \n",
    "        if m<N_list[mid]:\n",
    "            end=mid-1\n",
    "        elif m>N_list[mid]:\n",
    "            start=mid+1\n",
    "            \n",
    "for i in range(M):\n",
    "    if binary(M_list[i]):\n",
    "        print(1)\n",
    "    else:print(0)\n",
    "    "
   ]
  },
  {
   "cell_type": "code",
   "execution_count": 9,
   "metadata": {},
   "outputs": [
    {
     "name": "stdout",
     "output_type": "stream",
     "text": [
      "1\n",
      "1\n",
      "0\n",
      "0\n",
      "1\n"
     ]
    }
   ],
   "source": [
    "#다른 풀이\n",
    "##메모리 50380, 시간 172ms\n",
    "n = int(input())\n",
    "n_list = set(map(int, input().split()))\n",
    "m = int(input())\n",
    "m_list = list(map(int, input().split()))\n",
    "\n",
    "for num in m_list:\n",
    "  print(1) if num in n_list else print(0)\n"
   ]
  }
 ],
 "metadata": {
  "kernelspec": {
   "display_name": "Python 3",
   "language": "python",
   "name": "python3"
  },
  "language_info": {
   "codemirror_mode": {
    "name": "ipython",
    "version": 3
   },
   "file_extension": ".py",
   "mimetype": "text/x-python",
   "name": "python",
   "nbconvert_exporter": "python",
   "pygments_lexer": "ipython3",
   "version": "3.10.11"
  }
 },
 "nbformat": 4,
 "nbformat_minor": 2
}
