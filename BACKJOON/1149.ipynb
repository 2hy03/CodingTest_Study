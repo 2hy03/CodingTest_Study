{
 "cells": [
  {
   "cell_type": "markdown",
   "metadata": {},
   "source": [
    "### 1149. RGB거리"
   ]
  },
  {
   "cell_type": "code",
   "execution_count": 33,
   "metadata": {},
   "outputs": [
    {
     "name": "stdout",
     "output_type": "stream",
     "text": [
      "96\n"
     ]
    }
   ],
   "source": [
    "N=int(input())\n",
    "rgb=[]\n",
    "for _ in range(N):\n",
    "    rgb.append(list(map(int,input().split())))\n",
    "\n",
    "dp=[[0]*3 for _ in range(N)] # 각 집을 R,G,B로 색칠했을 때, 최소값\n",
    "\n",
    "#첫번째 값 할당\n",
    "dp[0][0], dp[0][1], dp[0][2] = rgb[0][0], rgb[0][1], rgb[0][2]\n",
    "\n",
    "#최소값확인을 통해 dp update\n",
    "for i in range(1,N):\n",
    "    dp[i][0]=min(dp[i-1][1]+rgb[i][0],dp[i-1][2]+rgb[i][0])\n",
    "    dp[i][1]=min(dp[i-1][0]+rgb[i][1],dp[i-1][2]+rgb[i][1])\n",
    "    dp[i][2]=min(dp[i-1][0]+rgb[i][2],dp[i-1][1]+rgb[i][2])\n",
    "print(min(dp[N-1]))"
   ]
  },
  {
   "cell_type": "code",
   "execution_count": 25,
   "metadata": {},
   "outputs": [],
   "source": [
    "#예제\n",
    "rgb =[[30, 19, 5],\n",
    "     [64, 77, 64],\n",
    "     [15, 19, 97],\n",
    "     [4 ,71 ,57],\n",
    "     [90, 86, 84],\n",
    "     [93, 32, 91]]\n",
    "N=6\n",
    "#result 208\n"
   ]
  }
 ],
 "metadata": {
  "kernelspec": {
   "display_name": "Python 3",
   "language": "python",
   "name": "python3"
  },
  "language_info": {
   "codemirror_mode": {
    "name": "ipython",
    "version": 3
   },
   "file_extension": ".py",
   "mimetype": "text/x-python",
   "name": "python",
   "nbconvert_exporter": "python",
   "pygments_lexer": "ipython3",
   "version": "3.10.11"
  }
 },
 "nbformat": 4,
 "nbformat_minor": 2
}
