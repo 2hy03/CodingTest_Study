{
 "cells": [
  {
   "cell_type": "markdown",
   "metadata": {},
   "source": [
    "### 1932. 정수 삼각형"
   ]
  },
  {
   "cell_type": "code",
   "execution_count": 1,
   "metadata": {},
   "outputs": [],
   "source": [
    "N=int(input())\n",
    "map_list=[]\n",
    "for _ in range(N):\n",
    "    n=list(map(int,input().split()))\n",
    "    map_list.append(n)\n",
    "    \n",
    "for i in range(-1,-N,-1):\n",
    "    cmax=[]\n",
    "    for j in range(len(map_list[i])-1):\n",
    "        cmax.append(max(map_list[i][j],map_list[i][j+1]))\n",
    "        \n",
    "    map_list[i-1]=[x+y for x,y in zip(cmax,map_list[i-1])]\n",
    "    #map_list[i-1] = [cmax[p] + map_list[i][p] for p in range(len(cmax))]\n",
    "print(map_list[0][0])"
   ]
  },
  {
   "cell_type": "code",
   "execution_count": 39,
   "metadata": {},
   "outputs": [
    {
     "name": "stdout",
     "output_type": "stream",
     "text": [
      "[5, 5, 6, 6]\n",
      "[[7], [3, 8], [8, 1, 0], [7, 12, 10, 10], [4, 5, 2, 6, 5]]\n",
      "[12, 12, 10]\n",
      "[[7], [3, 8], [20, 13, 10], [7, 12, 10, 10], [4, 5, 2, 6, 5]]\n",
      "[20, 13]\n",
      "[[7], [23, 21], [20, 13, 10], [7, 12, 10, 10], [4, 5, 2, 6, 5]]\n",
      "[23]\n",
      "[[30], [23, 21], [20, 13, 10], [7, 12, 10, 10], [4, 5, 2, 6, 5]]\n",
      "30\n"
     ]
    }
   ],
   "source": [
    "map_list=[[7], [3, 8], [8, 1, 0], [2, 7, 4, 4], [4, 5, 2, 6, 5]]\n",
    "for i in range(-1,-N,-1):\n",
    "    cmax=[]\n",
    "    for j in range(len(map_list[i])-1):\n",
    "        cmax.append(max(map_list[i][j],map_list[i][j+1]))\n",
    "        \n",
    "    map_list[i-1]=[x+y for x,y in zip(cmax,map_list[i-1])]\n",
    "    print(cmax)\n",
    "    print(map_list)   \n",
    "    #map_list[i-1] = [cmax[p] + map_list[i][p] for p in range(len(cmax))]\n",
    "print(map_list[0][0])\n"
   ]
  },
  {
   "cell_type": "code",
   "execution_count": 42,
   "metadata": {},
   "outputs": [
    {
     "name": "stdout",
     "output_type": "stream",
     "text": [
      "30\n"
     ]
    }
   ],
   "source": [
    "##dp이용해서 풀기\n",
    "map_list=[[7], [3, 8], [8, 1, 0], [2, 7, 4, 4], [4, 5, 2, 6, 5]]\n",
    "dp=[]\n",
    "n=5\n",
    "dp=map_list.copy()\n",
    "for i in range(1,n):\n",
    "    for j in range(i+1):\n",
    "        if j==0:\n",
    "            dp[i][j]+=dp[i-1][j]\n",
    "        elif j==i:\n",
    "            dp[i][j]+=dp[i-1][j-1]\n",
    "        else:\n",
    "            dp[i][j]+=max(dp[i-1][j-1],dp[i-1][j])\n",
    "print(max(dp[-1]))"
   ]
  }
 ],
 "metadata": {
  "kernelspec": {
   "display_name": "Python 3",
   "language": "python",
   "name": "python3"
  },
  "language_info": {
   "codemirror_mode": {
    "name": "ipython",
    "version": 3
   },
   "file_extension": ".py",
   "mimetype": "text/x-python",
   "name": "python",
   "nbconvert_exporter": "python",
   "pygments_lexer": "ipython3",
   "version": "3.10.11"
  }
 },
 "nbformat": 4,
 "nbformat_minor": 2
}
